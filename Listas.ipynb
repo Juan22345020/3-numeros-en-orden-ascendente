{
  "nbformat": 4,
  "nbformat_minor": 0,
  "metadata": {
    "colab": {
      "provenance": [],
      "authorship_tag": "ABX9TyPaqIQQy4Yf5ZzJR7+rn4/6",
      "include_colab_link": true
    },
    "kernelspec": {
      "name": "python3",
      "display_name": "Python 3"
    },
    "language_info": {
      "name": "python"
    }
  },
  "cells": [
    {
      "cell_type": "markdown",
      "metadata": {
        "id": "view-in-github",
        "colab_type": "text"
      },
      "source": [
        "<a href=\"https://colab.research.google.com/github/Juan22345020/3-numeros-en-orden-ascendente/blob/main/Listas.ipynb\" target=\"_parent\"><img src=\"https://colab.research.google.com/assets/colab-badge.svg\" alt=\"Open In Colab\"/></a>"
      ]
    },
    {
      "cell_type": "markdown",
      "source": [
        "LISTAS\n",
        "\n",
        "- Son colecciones ordenadas de datos los cuales pueden ser de cualquier tipo\n",
        "- Las listas son mutables\n",
        "- Las listas se agrupan dentro de corchetes\n",
        "- Los elementos de una lista se separan con comas"
      ],
      "metadata": {
        "id": "FnzjWu04Yh-v"
      }
    },
    {
      "cell_type": "code",
      "execution_count": null,
      "metadata": {
        "id": "54DejJKtX13c"
      },
      "outputs": [],
      "source": [
        "#definir un alista con elementos de diferentes tipos\n",
        "lista= [\"Python\", \"UIS socorro\", 2023, \"Libre\", 5.0 ]\n",
        "print(lista)\n",
        "print(lista(1))\n",
        "print(lista(0))\n",
        "print(lista(2))\n",
        "print(lista(-1))\n",
        "print(lista(-2))\n"
      ]
    },
    {
      "cell_type": "code",
      "source": [
        "# Creacion de lista usando el contrutor list() sin parametros\n",
        "lista_3 = list()\n",
        "print(lista_3)\n",
        "\n",
        "lista_4 = list(range(10))\n",
        "print(lista_4)\n",
        "\n",
        "lista_5 = list(\"Uis Socorro\")\n",
        "print(lista_5)\n",
        "\n",
        "frase = \"Uis no somos uno, somos todos ls que estamos en la lucha\"\n",
        "lista_6 = frase.split(\".\")\n",
        "print(lista_6)"
      ],
      "metadata": {
        "id": "HyckFQ_Rbi8v"
      },
      "execution_count": null,
      "outputs": []
    },
    {
      "cell_type": "code",
      "source": [
        "# Funciones asociadas a las listas\n",
        "\n",
        "dias_laborables = [ \"Lunes\", \"Martes\", \"Miercoles\"]\n",
        "colores_primario = [\"Rojo\", \"verde\", \"Azul\" ]\n",
        "pares= list(range(0,30,2))\n",
        "\n",
        "print(dias_laborables)\n",
        "dias_laborables.append(\"Sabado\")\n",
        "print(dias_laborables)\n",
        "print(f\"El lunes aparece {dias_laborables.count(lunes´)}\", \"veces\")\n",
        "# agregar un elemento al principio de la lista\n",
        "colores_primarios.insert(0, \"blanco\")\n",
        "print(colores_primarios)\n",
        "#quitar un elemento de la lista\n",
        "dias_laborables.remove(\"Sabado\")"
      ],
      "metadata": {
        "colab": {
          "base_uri": "https://localhost:8080/"
        },
        "id": "iqUpDG4Tdf4B",
        "outputId": "a72e1fa6-669d-4aad-c7f7-4bfc3b027e2e"
      },
      "execution_count": 5,
      "outputs": [
        {
          "output_type": "stream",
          "name": "stdout",
          "text": [
            "['Lunes', 'Martes', 'Miercoles']\n",
            "['Lunes', 'Martes', 'Miercoles', 'Sabado']\n"
          ]
        }
      ]
    },
    {
      "cell_type": "markdown",
      "source": [],
      "metadata": {
        "id": "S79Lpo8AYNdX"
      }
    }
  ]
}